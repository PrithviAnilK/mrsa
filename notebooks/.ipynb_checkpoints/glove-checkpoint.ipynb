{
 "cells": [
  {
   "cell_type": "code",
   "execution_count": 1,
   "metadata": {},
   "outputs": [],
   "source": [
    "import numpy as np\n",
    "from tqdm import tqdm\n",
    "import json\n",
    "import torch\n",
    "GLOVE_PATH = 'D:\\\\datasets\\\\GLOVE\\\\glove.840B.300d.txt'\n",
    "WORD_TO_INDEX_PATH = 'D:\\\\Code\\\\Kaggle\\\\Movie Review Sentiment Analysis\\\\dataset\\\\word_to_index_train_and_test.json'"
   ]
  },
  {
   "cell_type": "code",
   "execution_count": 2,
   "metadata": {},
   "outputs": [],
   "source": [
    "with open(WORD_TO_INDEX_PATH, 'r') as f:\n",
    "    word_to_dex = json.load(f)"
   ]
  },
  {
   "cell_type": "code",
   "execution_count": 16,
   "metadata": {},
   "outputs": [
    {
     "data": {
      "text/plain": [
       "7"
      ]
     },
     "execution_count": 16,
     "metadata": {},
     "output_type": "execute_result"
    }
   ],
   "source": [
    "word_to_dex[',']"
   ]
  },
  {
   "cell_type": "code",
   "execution_count": 17,
   "metadata": {},
   "outputs": [],
   "source": [
    "word_to_glove_vec = {}\n",
    "word_to_dex2 = {}"
   ]
  },
  {
   "cell_type": "code",
   "execution_count": 18,
   "metadata": {},
   "outputs": [],
   "source": [
    "def glove():\n",
    "    dex = 0\n",
    "    with open(GLOVE_PATH, encoding=\"utf-8\", mode=\"r\") as f:\n",
    "        for line in tqdm(f):\n",
    "            line = line.split()\n",
    "            word = line[0]\n",
    "            if word not in word_to_dex:\n",
    "                continue\n",
    "            try:\n",
    "                vec = np.array(line[1:], dtype = np.float32)\n",
    "                word_to_glove_vec[word] = vec\n",
    "                word_to_dex2[word] = dex\n",
    "                dex += 1 \n",
    "            except:\n",
    "                print(word)"
   ]
  },
  {
   "cell_type": "code",
   "execution_count": 19,
   "metadata": {},
   "outputs": [
    {
     "name": "stderr",
     "output_type": "stream",
     "text": [
      "56148it [00:01, 35807.30it/s]"
     ]
    },
    {
     "name": "stdout",
     "output_type": "stream",
     "text": [
      ".\n"
     ]
    },
    {
     "name": "stderr",
     "output_type": "stream",
     "text": [
      "156561it [00:04, 48309.72it/s]"
     ]
    },
    {
     "name": "stdout",
     "output_type": "stream",
     "text": [
      ".\n"
     ]
    },
    {
     "name": "stderr",
     "output_type": "stream",
     "text": [
      "213097it [00:05, 46535.17it/s]"
     ]
    },
    {
     "name": "stdout",
     "output_type": "stream",
     "text": [
      ".\n"
     ]
    },
    {
     "name": "stderr",
     "output_type": "stream",
     "text": [
      "228156it [00:05, 46831.63it/s]"
     ]
    },
    {
     "name": "stdout",
     "output_type": "stream",
     "text": [
      ".\n"
     ]
    },
    {
     "name": "stderr",
     "output_type": "stream",
     "text": [
      "255349it [00:06, 36314.09it/s]"
     ]
    },
    {
     "name": "stdout",
     "output_type": "stream",
     "text": [
      "email\n"
     ]
    },
    {
     "name": "stderr",
     "output_type": "stream",
     "text": [
      "540228it [00:12, 51974.59it/s]"
     ]
    },
    {
     "name": "stdout",
     "output_type": "stream",
     "text": [
      "contact\n"
     ]
    },
    {
     "name": "stderr",
     "output_type": "stream",
     "text": [
      "2196017it [00:47, 45918.73it/s]\n"
     ]
    }
   ],
   "source": [
    "glove()"
   ]
  },
  {
   "cell_type": "code",
   "execution_count": 20,
   "metadata": {},
   "outputs": [
    {
     "data": {
      "text/plain": [
       "(14975,)"
      ]
     },
     "execution_count": 20,
     "metadata": {},
     "output_type": "execute_result"
    }
   ],
   "source": [
    "len(word_to_dex2), "
   ]
  },
  {
   "cell_type": "code",
   "execution_count": 21,
   "metadata": {},
   "outputs": [
    {
     "data": {
      "text/plain": [
       "array([-0.082752 ,  0.67204  , -0.14987  , -0.064983 ,  0.056491 ,\n",
       "        0.40228  ,  0.0027747, -0.3311   , -0.30691  ,  2.0817   ,\n",
       "        0.031819 ,  0.013643 ,  0.30265  ,  0.0071297, -0.5819   ,\n",
       "       -0.2774   , -0.062254 ,  1.1451   , -0.24232  ,  0.1235   ,\n",
       "       -0.12243  ,  0.33152  , -0.006162 , -0.30541  , -0.13057  ,\n",
       "       -0.054601 ,  0.037083 , -0.070552 ,  0.5893   , -0.30385  ,\n",
       "        0.2898   , -0.14653  , -0.27052  ,  0.37161  ,  0.32031  ,\n",
       "       -0.29125  ,  0.0052483, -0.13212  , -0.052736 ,  0.087349 ,\n",
       "       -0.26668  , -0.16897  ,  0.015162 , -0.0083746, -0.14871  ,\n",
       "        0.23413  , -0.20719  , -0.091386 ,  0.40075  , -0.17223  ,\n",
       "        0.18145  ,  0.37586  , -0.28682  ,  0.37289  , -0.16185  ,\n",
       "        0.18008  ,  0.3032   , -0.13216  ,  0.18352  ,  0.095759 ,\n",
       "        0.094916 ,  0.008289 ,  0.11761  ,  0.34046  ,  0.03677  ,\n",
       "       -0.29077  ,  0.058303 , -0.027814 ,  0.082941 ,  0.1862   ,\n",
       "       -0.031494 ,  0.27985  , -0.074412 , -0.13762  , -0.21866  ,\n",
       "        0.18138  ,  0.040855 , -0.113    ,  0.24107  ,  0.3657   ,\n",
       "       -0.27525  , -0.05684  ,  0.34872  ,  0.011884 ,  0.14517  ,\n",
       "       -0.71395  ,  0.48497  ,  0.14807  ,  0.62287  ,  0.20599  ,\n",
       "        0.58379  , -0.13438  ,  0.40207  ,  0.18311  ,  0.28021  ,\n",
       "       -0.42349  , -0.25626  ,  0.17715  , -0.54095  ,  0.16596  ,\n",
       "       -0.036058 ,  0.08499  , -0.64989  ,  0.075549 , -0.28831  ,\n",
       "        0.40626  , -0.2802   ,  0.094062 ,  0.32406  ,  0.28437  ,\n",
       "       -0.26341  ,  0.11553  ,  0.071918 , -0.47215  , -0.18366  ,\n",
       "       -0.34709  ,  0.29964  , -0.66514  ,  0.002516 , -0.42333  ,\n",
       "        0.27512  ,  0.36012  ,  0.16311  ,  0.23964  , -0.05923  ,\n",
       "        0.3261   ,  0.20559  ,  0.038677 , -0.045816 ,  0.089764 ,\n",
       "        0.43151  , -0.15954  ,  0.08532  , -0.26572  , -0.15001  ,\n",
       "        0.084286 , -0.16714  , -0.43004  ,  0.060807 ,  0.13121  ,\n",
       "       -0.24112  ,  0.66554  ,  0.4453   , -0.18019  , -0.13919  ,\n",
       "        0.56252  ,  0.21457  , -0.46443  , -0.012211 ,  0.029988 ,\n",
       "       -0.051094 , -0.20135  ,  0.80788  ,  0.47377  , -0.057647 ,\n",
       "        0.46216  ,  0.16084  , -0.20954  , -0.05452  ,  0.15572  ,\n",
       "       -0.13712  ,  0.12972  , -0.011936 , -0.003378 , -0.13595  ,\n",
       "       -0.080711 ,  0.20065  ,  0.054056 ,  0.046816 ,  0.059539 ,\n",
       "        0.046265 ,  0.17754  , -0.31094  ,  0.28119  , -0.24355  ,\n",
       "        0.085252 , -0.21011  , -0.19472  ,  0.0027297, -0.46341  ,\n",
       "        0.14789  , -0.31517  , -0.065939 ,  0.036106 ,  0.42903  ,\n",
       "       -0.33759  ,  0.16432  ,  0.32568  , -0.050392 , -0.054297 ,\n",
       "        0.24074  ,  0.41923  ,  0.13012  , -0.17167  , -0.37808  ,\n",
       "       -0.23089  , -0.019477 , -0.29291  , -0.30824  ,  0.30297  ,\n",
       "       -0.22659  ,  0.081574 , -0.18516  , -0.21408  ,  0.40616  ,\n",
       "       -0.28974  ,  0.074174 , -0.17795  ,  0.28595  , -0.039626 ,\n",
       "       -0.2339   , -0.36054  , -0.067503 , -0.091065 ,  0.23438  ,\n",
       "       -0.0041331,  0.003232 ,  0.0072134,  0.008697 ,  0.21614  ,\n",
       "        0.049904 ,  0.35582  ,  0.13748  ,  0.073361 ,  0.14166  ,\n",
       "        0.2412   , -0.013322 ,  0.15613  ,  0.083381 ,  0.088146 ,\n",
       "       -0.019357 ,  0.43795  ,  0.083961 ,  0.45309  , -0.50489  ,\n",
       "       -0.10865  , -0.2527   , -0.18251  ,  0.20441  ,  0.13319  ,\n",
       "        0.1294   ,  0.050594 , -0.15612  , -0.39543  ,  0.12538  ,\n",
       "        0.24881  , -0.1927   , -0.31847  , -0.12719  ,  0.4341   ,\n",
       "        0.31177  , -0.0040946, -0.2094   , -0.079961 ,  0.1161   ,\n",
       "       -0.050794 ,  0.015266 , -0.2803   , -0.12486  ,  0.23587  ,\n",
       "        0.2339   , -0.14023  ,  0.028462 ,  0.56923  , -0.1649   ,\n",
       "       -0.036429 ,  0.010051 , -0.17107  , -0.042608 ,  0.044965 ,\n",
       "       -0.4393   , -0.26137  ,  0.30088  , -0.060772 , -0.45312  ,\n",
       "       -0.19076  , -0.20288  ,  0.27694  , -0.060888 ,  0.11944  ,\n",
       "        0.62206  , -0.19343  ,  0.47849  , -0.30113  ,  0.059389 ,\n",
       "        0.074901 ,  0.061068 , -0.4662   ,  0.40054  , -0.19099  ,\n",
       "       -0.14331  ,  0.018267 , -0.18643  ,  0.20709  , -0.35598  ,\n",
       "        0.05338  , -0.050821 , -0.1918   , -0.37846  , -0.06589  ],\n",
       "      dtype=float32)"
      ]
     },
     "execution_count": 21,
     "metadata": {},
     "output_type": "execute_result"
    }
   ],
   "source": [
    "word_to_glove_vec[',']"
   ]
  },
  {
   "cell_type": "code",
   "execution_count": 22,
   "metadata": {},
   "outputs": [],
   "source": [
    "glove_arr = [word_to_glove_vec[word] for word in word_to_dex2] "
   ]
  },
  {
   "cell_type": "code",
   "execution_count": 23,
   "metadata": {},
   "outputs": [],
   "source": [
    "glove_arr = np.asarray(glove_arr)"
   ]
  },
  {
   "cell_type": "code",
   "execution_count": 24,
   "metadata": {},
   "outputs": [
    {
     "data": {
      "text/plain": [
       "array([[-0.082752,  0.67204 , -0.14987 , ..., -0.1918  , -0.37846 ,\n",
       "        -0.06589 ],\n",
       "       [ 0.012001,  0.20751 , -0.12578 , ...,  0.13871 , -0.36049 ,\n",
       "        -0.035   ],\n",
       "       [ 0.008746,  0.33214 , -0.29175 , ..., -0.28677 , -0.22663 ,\n",
       "        -0.05087 ],\n",
       "       ...,\n",
       "       [ 0.047557,  0.30836 ,  0.29363 , ...,  0.71795 ,  0.34412 ,\n",
       "        -0.33619 ],\n",
       "       [-0.043732,  0.43992 ,  0.53    , ...,  0.079911,  0.068103,\n",
       "        -0.23527 ],\n",
       "       [ 0.26089 , -0.12723 ,  0.35836 , ..., -0.052449, -0.57347 ,\n",
       "        -0.022899]], dtype=float32)"
      ]
     },
     "execution_count": 24,
     "metadata": {},
     "output_type": "execute_result"
    }
   ],
   "source": [
    "glove_arr"
   ]
  },
  {
   "cell_type": "code",
   "execution_count": 25,
   "metadata": {},
   "outputs": [
    {
     "data": {
      "text/plain": [
       "(14975, 300)"
      ]
     },
     "execution_count": 25,
     "metadata": {},
     "output_type": "execute_result"
    }
   ],
   "source": [
    "glove_arr.shape"
   ]
  },
  {
   "cell_type": "code",
   "execution_count": 26,
   "metadata": {},
   "outputs": [],
   "source": [
    "np.save('glove.npy', glove_arr)"
   ]
  },
  {
   "cell_type": "code",
   "execution_count": 9,
   "metadata": {},
   "outputs": [],
   "source": [
    "with open(WORD_TO_INDEX_PATH, 'w') as f:\n",
    "    json.dump(word_to_dex, f)"
   ]
  },
  {
   "cell_type": "code",
   "execution_count": 7,
   "metadata": {},
   "outputs": [],
   "source": [
    "word_to_dex = {word: dex for dex, word in enumerate(word_to_dex)}"
   ]
  }
 ],
 "metadata": {
  "kernelspec": {
   "display_name": "Python 3",
   "language": "python",
   "name": "python3"
  },
  "language_info": {
   "codemirror_mode": {
    "name": "ipython",
    "version": 3
   },
   "file_extension": ".py",
   "mimetype": "text/x-python",
   "name": "python",
   "nbconvert_exporter": "python",
   "pygments_lexer": "ipython3",
   "version": "3.7.6"
  }
 },
 "nbformat": 4,
 "nbformat_minor": 4
}
